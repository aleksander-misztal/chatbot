{
 "cells": [
  {
   "cell_type": "code",
   "execution_count": null,
   "id": "d65d5f45",
   "metadata": {},
   "outputs": [],
   "source": [
    "import gradio as gr\n",
    "from openai import OpenAI\n",
    "import os\n",
    "\n",
    "# 🔐 Ustaw swój klucz API (lub użyj zmiennych środowiskowych)\n",
    "api_key = \"\"  # <-- tutaj wstaw swój klucz lub użyj os.environ\n",
    "client = OpenAI(api_key=api_key) \n",
    "# 🧠 Ustal system prompt (np. jak ma się zachowywać asystent)\n",
    "\n",
    "safety = \"Odpowiadaj tylko o pytania związane z braną beauty, uroda, kosmetologia, paznokcie i rzesy. jezeli pytaja o cos innego to przerwij\"\n",
    "\n",
    "system_prompt = 'Jesteś pomocnym asystentem kosmetologicznym. \\n' + safety\n",
    "\n",
    "\n",
    "\n",
    "\n",
    "\n",
    "def chat_fn(message, history):\n",
    "    # Konwertuj historię do formatu OpenAI (message-role format)\n",
    "    messages = [{\"role\": \"system\", \"content\": system_prompt}]\n",
    "\n",
    "\n",
    "    for user_msg, bot_msg in history:\n",
    "        messages.append({\"role\": \"user\", \"content\": user_msg})\n",
    "        messages.append({\"role\": \"assistant\", \"content\": bot_msg})\n",
    "\n",
    "    # Dodaj najnowszą wiadomość użytkownika\n",
    "    messages.append({\"role\": \"user\", \"content\": message})\n",
    "\n",
    "    # Wywołanie API\n",
    "    response = client.chat.completions.create(\n",
    "        model=\"gpt-4.1-nano-2025-04-14\",  # lub \"gpt-3.5-turbo\"\n",
    "        messages=messages,\n",
    "        temperature=0.3\n",
    "    )\n",
    "\n",
    "    reply = response.choices[0].message.content\n",
    "    return reply"
   ]
  },
  {
   "cell_type": "code",
   "execution_count": 17,
   "id": "15a9c2eb",
   "metadata": {},
   "outputs": [
    {
     "name": "stderr",
     "output_type": "stream",
     "text": [
      "/Users/aleksandermisztal/Documents/Trailgent/chatbot/env/lib/python3.13/site-packages/gradio/chat_interface.py:339: UserWarning: The 'tuples' format for chatbot messages is deprecated and will be removed in a future version of Gradio. Please set type='messages' instead, which uses openai-style 'role' and 'content' keys.\n",
      "  self.chatbot = Chatbot(\n"
     ]
    },
    {
     "name": "stdout",
     "output_type": "stream",
     "text": [
      "* Running on local URL:  http://127.0.0.1:7869\n",
      "* To create a public link, set `share=True` in `launch()`.\n"
     ]
    },
    {
     "data": {
      "text/html": [
       "<div><iframe src=\"http://127.0.0.1:7869/\" width=\"100%\" height=\"500\" allow=\"autoplay; camera; microphone; clipboard-read; clipboard-write;\" frameborder=\"0\" allowfullscreen></iframe></div>"
      ],
      "text/plain": [
       "<IPython.core.display.HTML object>"
      ]
     },
     "metadata": {},
     "output_type": "display_data"
    },
    {
     "data": {
      "text/plain": []
     },
     "execution_count": 17,
     "metadata": {},
     "output_type": "execute_result"
    }
   ],
   "source": [
    "import gradio as gr\n",
    "\n",
    "chat = gr.ChatInterface(fn=chat_fn)\n",
    "\n",
    "# Odpala interfejs w notebooku\n",
    "chat.launch(inline=True)\n"
   ]
  },
  {
   "cell_type": "code",
   "execution_count": null,
   "id": "be91f849",
   "metadata": {},
   "outputs": [],
   "source": []
  },
  {
   "cell_type": "code",
   "execution_count": null,
   "id": "e1684c85",
   "metadata": {},
   "outputs": [],
   "source": []
  }
 ],
 "metadata": {
  "kernelspec": {
   "display_name": "env",
   "language": "python",
   "name": "python3"
  },
  "language_info": {
   "codemirror_mode": {
    "name": "ipython",
    "version": 3
   },
   "file_extension": ".py",
   "mimetype": "text/x-python",
   "name": "python",
   "nbconvert_exporter": "python",
   "pygments_lexer": "ipython3",
   "version": "3.13.3"
  }
 },
 "nbformat": 4,
 "nbformat_minor": 5
}
